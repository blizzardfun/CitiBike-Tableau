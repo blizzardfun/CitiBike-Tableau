{
 "cells": [
  {
   "cell_type": "markdown",
   "metadata": {},
   "source": [
    "# Station Data\n",
    "This notebook will read in the csv data from multiple files, \n",
    "one file per month of 2018 and write a relational files for \n",
    "\n",
    "stations, (Data/2018/stations.csv) \n",
    "\n",
    "Trip information is divided into:\n",
    "\n",
    "trip starts \"Data/2018/startdata.csv\" and \n",
    "trip ends \"Data/2018/enddata.csv\",\n",
    "\n",
    "The division of start and end is done so that the info can be aggregated for number of trips for each station\n",
    "\n",
    "Data for each is cleaned inseparate functions \n",
    "Each month is read in by a separate code box so you are able to read in only the months desired to be appended.\n",
    "Stations have been added to the system over the time period so the stations for each month are also appended with duplicates \n",
    "removed"
   ]
  },
  {
   "cell_type": "markdown",
   "metadata": {},
   "source": [
    "# Start Station"
   ]
  },
  {
   "cell_type": "code",
   "execution_count": 1,
   "metadata": {},
   "outputs": [],
   "source": [
    "import matplotlib.pyplot as plt\n",
    "import pandas as pd\n",
    "import numpy as np\n",
    "from datetime import datetime"
   ]
  },
  {
   "cell_type": "markdown",
   "metadata": {},
   "source": [
    "# clean_station function\n"
   ]
  },
  {
   "cell_type": "code",
   "execution_count": null,
   "metadata": {},
   "outputs": [],
   "source": [
    "clean_station_df=pd.DataFrame(columns=[\"stationid\",\"stationname\",\"stationlatitude\",\"stationlongitude\"])"
   ]
  },
  {
   "cell_type": "code",
   "execution_count": null,
   "metadata": {},
   "outputs": [],
   "source": [
    "def clean_station(bike_df, full_station_df):\n",
    "###########################################\n",
    "#Selects unique stations, \n",
    "#changes column names to remove spaces\n",
    "#appends to previous stations\n",
    "# removes duplicates\n",
    "# returns [\"stationid\",\"stationname\",\"stationlatitude\",\"stationlongitude\"]\n",
    "######################################################\n",
    "\n",
    "    #select needed columns\n",
    "    station_df=bike_df.loc[:,[\"start station id\",\"start station name\",\"start station latitude\",\"start station longitude\"]]\n",
    "   \n",
    "    station_df=station_df.drop_duplicates()\n",
    "    station_df=station_df.dropna()\n",
    "    station_df=station_df.rename(columns = {'start station id':'stationid','start station name':'stationname','start station latitude':'stationlatitude','start station longitude':'stationlongitude'})\n",
    "    station_df['stationid']=station_df['stationid'].astype(int)\n",
    "    \n",
    "    #append\n",
    "    result = pd.concat([full_station_df,station_df],sort=True)\n",
    "    result =result.drop_duplicates()\n",
    "    return result"
   ]
  },
  {
   "cell_type": "markdown",
   "metadata": {},
   "source": [
    "# clean_start_data function\n"
   ]
  },
  {
   "cell_type": "code",
   "execution_count": 2,
   "metadata": {},
   "outputs": [],
   "source": [
    "def clean_start_data(year,bike_df,full_data_df):\n",
    "#####################################################\n",
    "#  bike_df new data\n",
    "# full_data_df  previously appended data\n",
    "#changes column names to remove spaces\n",
    "# parses starttime for startday and start month\n",
    "# ensures station id is integer\n",
    "# aggregates the number of trips by station month and day to starttripcount\n",
    "#\n",
    "# returns ['startstationid', 'startmonth','startday','starttripcount']\n",
    "#################################################\n",
    "    #select needed columns\n",
    "    data_df=bike_df.loc[:,[\"starttime\",\"start station id\",\"bikeid\"]]\n",
    "    data_df=data_df.dropna()\n",
    "\n",
    "     #parse date and capture date info for groupby\n",
    "    datetime_list= [datetime.strptime( entry,\"%Y-%m-%d %H:%M:%S.%f\") for entry in data_df[\"starttime\"]]\n",
    "\n",
    "    data_df[\"startday\"]= [datetime.strftime(entry,\"%d\") for entry in datetime_list]\n",
    "    data_df[\"startmonth\"]= [datetime.strftime(entry,\"%m\") for entry in datetime_list]\n",
    "#    data_df['Start Hour']=[datetime.strftime(entry,\"%H\") for entry in datetime_list]\n",
    " \n",
    "    data_df=data_df.rename(columns={'start station id':'startstationid'})\n",
    "    data_df['startstationid']=data_df['startstationid'].astype(int)\n",
    " \n",
    "    #group by station and start date - count bikeids \n",
    "    group_data_df=data_df.groupby(['startstationid', 'startmonth','startday'], as_index=False).agg( {'bikeid':'count'}) \n",
    "    \n",
    "    #rename aggregate columns \n",
    "    group_data_df=group_data_df.rename(columns={'bikeid':'starttripcount'})\n",
    "\n",
    "    #append\n",
    "    return pd.concat([full_data_df,group_data_df],sort=True)"
   ]
  },
  {
   "cell_type": "markdown",
   "metadata": {},
   "source": [
    "# clean_end_data function"
   ]
  },
  {
   "cell_type": "code",
   "execution_count": 3,
   "metadata": {},
   "outputs": [],
   "source": [
    "def clean_end_data(bike_df,full_data_df):\n",
    "#####################################################\n",
    "#  bike_df new data\n",
    "# full_data_df  previously appended data\n",
    "#changes column names to remove spaces\n",
    "# parses stoptime for endday and endmonth\n",
    "# ensures station id is integer\n",
    "# aggregates the number of trips by station, month and day to endtripcount\n",
    "#\n",
    "# returns ['endstationid', 'endmonth','endday','endtripcount']\n",
    "#################################################\n",
    "    #select needed columns\n",
    "    data_df=bike_df.loc[:,[\"stoptime\",\"end station id\",\"bikeid\"]]\n",
    "    data_df=data_df.dropna()\n",
    "    \n",
    "     #parse date and capture date info for groupby\n",
    "    datetime_list= [datetime.strptime( entry,\"%Y-%m-%d %H:%M:%S.%f\") for entry in data_df[\"stoptime\"]]\n",
    "\n",
    "    data_df[\"endday\"]= [datetime.strftime(entry,\"%d\") for entry in datetime_list]\n",
    "    data_df[\"endmonth\"]= [datetime.strftime(entry,\"%m\") for entry in datetime_list]\n",
    "#     data_df['End Hour']=[datetime.strftime(entry,\"%H\") for entry in datetime_list]\n",
    "     \n",
    "    data_df=data_df.rename(columns={'end station id':'endstationid'})\n",
    "    data_df['endstationid']=data_df['endstationid'].astype(int)\n",
    "   \n",
    "    #group by station and start date - count bikeids and average tripdurations\n",
    "    group_data_df=data_df.groupby(['endstationid', 'endmonth','endday'], as_index=False).agg( {'bikeid':'count'}) \n",
    "    #rename aggregate columns\n",
    "    group_data_df=group_data_df.rename(columns={'bikeid':'endtripcount'})\n",
    "\n",
    "    #append\n",
    "    return pd.concat([full_data_df,group_data_df],sort=True)"
   ]
  },
  {
   "cell_type": "markdown",
   "metadata": {},
   "source": [
    "# start processing files"
   ]
  },
  {
   "cell_type": "code",
   "execution_count": 4,
   "metadata": {},
   "outputs": [],
   "source": [
    "\n",
    "start_data_df=pd.DataFrame(columns=['startstationid', 'startmonth','startday','starttripcount'])\n",
    "end_data_df=pd.DataFrame(columns=['endstationid', 'endmonth','endday','endtripcount'])"
   ]
  },
  {
   "cell_type": "code",
   "execution_count": 5,
   "metadata": {
    "scrolled": false
   },
   "outputs": [
    {
     "name": "stdout",
     "output_type": "stream",
     "text": [
      "start (22384, 4)\n",
      "end (22527, 4)\n"
     ]
    },
    {
     "data": {
      "text/html": [
       "<div>\n",
       "<style scoped>\n",
       "    .dataframe tbody tr th:only-of-type {\n",
       "        vertical-align: middle;\n",
       "    }\n",
       "\n",
       "    .dataframe tbody tr th {\n",
       "        vertical-align: top;\n",
       "    }\n",
       "\n",
       "    .dataframe thead th {\n",
       "        text-align: right;\n",
       "    }\n",
       "</style>\n",
       "<table border=\"1\" class=\"dataframe\">\n",
       "  <thead>\n",
       "    <tr style=\"text-align: right;\">\n",
       "      <th></th>\n",
       "      <th>startday</th>\n",
       "      <th>startmonth</th>\n",
       "      <th>startstationid</th>\n",
       "      <th>starttripcount</th>\n",
       "    </tr>\n",
       "  </thead>\n",
       "  <tbody>\n",
       "    <tr>\n",
       "      <th>22379</th>\n",
       "      <td>27</td>\n",
       "      <td>01</td>\n",
       "      <td>3664</td>\n",
       "      <td>14</td>\n",
       "    </tr>\n",
       "    <tr>\n",
       "      <th>22380</th>\n",
       "      <td>28</td>\n",
       "      <td>01</td>\n",
       "      <td>3664</td>\n",
       "      <td>18</td>\n",
       "    </tr>\n",
       "    <tr>\n",
       "      <th>22381</th>\n",
       "      <td>29</td>\n",
       "      <td>01</td>\n",
       "      <td>3664</td>\n",
       "      <td>56</td>\n",
       "    </tr>\n",
       "    <tr>\n",
       "      <th>22382</th>\n",
       "      <td>30</td>\n",
       "      <td>01</td>\n",
       "      <td>3664</td>\n",
       "      <td>40</td>\n",
       "    </tr>\n",
       "    <tr>\n",
       "      <th>22383</th>\n",
       "      <td>31</td>\n",
       "      <td>01</td>\n",
       "      <td>3664</td>\n",
       "      <td>47</td>\n",
       "    </tr>\n",
       "  </tbody>\n",
       "</table>\n",
       "</div>"
      ],
      "text/plain": [
       "      startday startmonth startstationid starttripcount\n",
       "22379       27         01           3664             14\n",
       "22380       28         01           3664             18\n",
       "22381       29         01           3664             56\n",
       "22382       30         01           3664             40\n",
       "22383       31         01           3664             47"
      ]
     },
     "execution_count": 5,
     "metadata": {},
     "output_type": "execute_result"
    }
   ],
   "source": [
    "#Read in January data\n",
    "bike_df=pd.read_csv(\"Data/Sources/201801-citibike-tripdata.csv\")\n",
    "clean_station_df=clean_station(bike_df,clean_station_df)\n",
    "start_data_df=clean_start_data(2018,bike_df,start_data_df)\n",
    "end_data_df=clean_end_data(bike_df,end_data_df)\n",
    "\n",
    "print(\"start\",start_data_df.shape)\n",
    "print(\"end\",end_data_df.shape)\n",
    "start_data_df.tail()"
   ]
  },
  {
   "cell_type": "code",
   "execution_count": 6,
   "metadata": {},
   "outputs": [
    {
     "data": {
      "text/html": [
       "<div>\n",
       "<style scoped>\n",
       "    .dataframe tbody tr th:only-of-type {\n",
       "        vertical-align: middle;\n",
       "    }\n",
       "\n",
       "    .dataframe tbody tr th {\n",
       "        vertical-align: top;\n",
       "    }\n",
       "\n",
       "    .dataframe thead th {\n",
       "        text-align: right;\n",
       "    }\n",
       "</style>\n",
       "<table border=\"1\" class=\"dataframe\">\n",
       "  <thead>\n",
       "    <tr style=\"text-align: right;\">\n",
       "      <th></th>\n",
       "      <th>endday</th>\n",
       "      <th>endmonth</th>\n",
       "      <th>endstationid</th>\n",
       "      <th>endtripcount</th>\n",
       "    </tr>\n",
       "  </thead>\n",
       "  <tbody>\n",
       "    <tr>\n",
       "      <th>22522</th>\n",
       "      <td>27</td>\n",
       "      <td>01</td>\n",
       "      <td>3664</td>\n",
       "      <td>15</td>\n",
       "    </tr>\n",
       "    <tr>\n",
       "      <th>22523</th>\n",
       "      <td>28</td>\n",
       "      <td>01</td>\n",
       "      <td>3664</td>\n",
       "      <td>18</td>\n",
       "    </tr>\n",
       "    <tr>\n",
       "      <th>22524</th>\n",
       "      <td>29</td>\n",
       "      <td>01</td>\n",
       "      <td>3664</td>\n",
       "      <td>56</td>\n",
       "    </tr>\n",
       "    <tr>\n",
       "      <th>22525</th>\n",
       "      <td>30</td>\n",
       "      <td>01</td>\n",
       "      <td>3664</td>\n",
       "      <td>39</td>\n",
       "    </tr>\n",
       "    <tr>\n",
       "      <th>22526</th>\n",
       "      <td>31</td>\n",
       "      <td>01</td>\n",
       "      <td>3664</td>\n",
       "      <td>47</td>\n",
       "    </tr>\n",
       "  </tbody>\n",
       "</table>\n",
       "</div>"
      ],
      "text/plain": [
       "      endday endmonth endstationid endtripcount\n",
       "22522     27       01         3664           15\n",
       "22523     28       01         3664           18\n",
       "22524     29       01         3664           56\n",
       "22525     30       01         3664           39\n",
       "22526     31       01         3664           47"
      ]
     },
     "execution_count": 6,
     "metadata": {},
     "output_type": "execute_result"
    }
   ],
   "source": [
    "end_data_df.tail()"
   ]
  },
  {
   "cell_type": "code",
   "execution_count": null,
   "metadata": {},
   "outputs": [],
   "source": [
    "#append Feb data\n",
    "bike_df=pd.read_csv(\"Data/Sources/201802-citibike-tripdata.csv\")\n",
    "#clean_station_df=clean_station(bike_df,clean_station_df)\n",
    "start_data_df=clean_start_data(2018,bike_df,start_data_df)\n",
    "end_data_df=clean_end_data(bike_df,end_data_df)\n",
    "\n",
    "print(\"start\",start_data_df.shape)\n",
    "print(\"end\",end_data_df.shape)\n",
    "start_data_df.tail()"
   ]
  },
  {
   "cell_type": "code",
   "execution_count": null,
   "metadata": {},
   "outputs": [],
   "source": [
    "end_data_df.tail()"
   ]
  },
  {
   "cell_type": "code",
   "execution_count": null,
   "metadata": {},
   "outputs": [],
   "source": [
    "#append March data\n",
    "bike_df=pd.read_csv(\"Data/Sources/201803-citibike-tripdata.csv\")\n",
    "#clean_station_df=clean_station(bike_df,clean_station_df)\n",
    "start_data_df=clean_start_data(2018,bike_df,start_data_df)\n",
    "end_data_df=clean_end_data(bike_df,end_data_df)\n",
    "\n",
    "start_data_df.tail()"
   ]
  },
  {
   "cell_type": "code",
   "execution_count": null,
   "metadata": {},
   "outputs": [],
   "source": [
    "end_data_df.tail()"
   ]
  },
  {
   "cell_type": "code",
   "execution_count": 7,
   "metadata": {},
   "outputs": [
    {
     "name": "stdout",
     "output_type": "stream",
     "text": [
      "start (44708, 4)\n",
      "end (44983, 4)\n"
     ]
    },
    {
     "data": {
      "text/html": [
       "<div>\n",
       "<style scoped>\n",
       "    .dataframe tbody tr th:only-of-type {\n",
       "        vertical-align: middle;\n",
       "    }\n",
       "\n",
       "    .dataframe tbody tr th {\n",
       "        vertical-align: top;\n",
       "    }\n",
       "\n",
       "    .dataframe thead th {\n",
       "        text-align: right;\n",
       "    }\n",
       "</style>\n",
       "<table border=\"1\" class=\"dataframe\">\n",
       "  <thead>\n",
       "    <tr style=\"text-align: right;\">\n",
       "      <th></th>\n",
       "      <th>startday</th>\n",
       "      <th>startmonth</th>\n",
       "      <th>startstationid</th>\n",
       "      <th>starttripcount</th>\n",
       "    </tr>\n",
       "  </thead>\n",
       "  <tbody>\n",
       "    <tr>\n",
       "      <th>22319</th>\n",
       "      <td>26</td>\n",
       "      <td>04</td>\n",
       "      <td>3680</td>\n",
       "      <td>89</td>\n",
       "    </tr>\n",
       "    <tr>\n",
       "      <th>22320</th>\n",
       "      <td>27</td>\n",
       "      <td>04</td>\n",
       "      <td>3680</td>\n",
       "      <td>43</td>\n",
       "    </tr>\n",
       "    <tr>\n",
       "      <th>22321</th>\n",
       "      <td>28</td>\n",
       "      <td>04</td>\n",
       "      <td>3680</td>\n",
       "      <td>17</td>\n",
       "    </tr>\n",
       "    <tr>\n",
       "      <th>22322</th>\n",
       "      <td>29</td>\n",
       "      <td>04</td>\n",
       "      <td>3680</td>\n",
       "      <td>18</td>\n",
       "    </tr>\n",
       "    <tr>\n",
       "      <th>22323</th>\n",
       "      <td>30</td>\n",
       "      <td>04</td>\n",
       "      <td>3680</td>\n",
       "      <td>65</td>\n",
       "    </tr>\n",
       "  </tbody>\n",
       "</table>\n",
       "</div>"
      ],
      "text/plain": [
       "      startday startmonth startstationid starttripcount\n",
       "22319       26         04           3680             89\n",
       "22320       27         04           3680             43\n",
       "22321       28         04           3680             17\n",
       "22322       29         04           3680             18\n",
       "22323       30         04           3680             65"
      ]
     },
     "execution_count": 7,
     "metadata": {},
     "output_type": "execute_result"
    }
   ],
   "source": [
    "#append April data\n",
    "bike_df=pd.read_csv(\"Data/Sources/201804-citibike-tripdata.csv\")\n",
    "#clean_station_df=clean_station(bike_df,clean_station_df)\n",
    "start_data_df=clean_start_data(2018,bike_df,start_data_df)\n",
    "end_data_df=clean_end_data(bike_df,end_data_df)\n",
    "\n",
    "print(\"start\",start_data_df.shape)\n",
    "print(\"end\",end_data_df.shape)\n",
    "start_data_df.tail()"
   ]
  },
  {
   "cell_type": "code",
   "execution_count": 8,
   "metadata": {},
   "outputs": [
    {
     "data": {
      "text/html": [
       "<div>\n",
       "<style scoped>\n",
       "    .dataframe tbody tr th:only-of-type {\n",
       "        vertical-align: middle;\n",
       "    }\n",
       "\n",
       "    .dataframe tbody tr th {\n",
       "        vertical-align: top;\n",
       "    }\n",
       "\n",
       "    .dataframe thead th {\n",
       "        text-align: right;\n",
       "    }\n",
       "</style>\n",
       "<table border=\"1\" class=\"dataframe\">\n",
       "  <thead>\n",
       "    <tr style=\"text-align: right;\">\n",
       "      <th></th>\n",
       "      <th>endday</th>\n",
       "      <th>endmonth</th>\n",
       "      <th>endstationid</th>\n",
       "      <th>endtripcount</th>\n",
       "    </tr>\n",
       "  </thead>\n",
       "  <tbody>\n",
       "    <tr>\n",
       "      <th>22451</th>\n",
       "      <td>27</td>\n",
       "      <td>04</td>\n",
       "      <td>3680</td>\n",
       "      <td>39</td>\n",
       "    </tr>\n",
       "    <tr>\n",
       "      <th>22452</th>\n",
       "      <td>28</td>\n",
       "      <td>04</td>\n",
       "      <td>3680</td>\n",
       "      <td>17</td>\n",
       "    </tr>\n",
       "    <tr>\n",
       "      <th>22453</th>\n",
       "      <td>29</td>\n",
       "      <td>04</td>\n",
       "      <td>3680</td>\n",
       "      <td>20</td>\n",
       "    </tr>\n",
       "    <tr>\n",
       "      <th>22454</th>\n",
       "      <td>30</td>\n",
       "      <td>04</td>\n",
       "      <td>3680</td>\n",
       "      <td>63</td>\n",
       "    </tr>\n",
       "    <tr>\n",
       "      <th>22455</th>\n",
       "      <td>27</td>\n",
       "      <td>04</td>\n",
       "      <td>3681</td>\n",
       "      <td>1</td>\n",
       "    </tr>\n",
       "  </tbody>\n",
       "</table>\n",
       "</div>"
      ],
      "text/plain": [
       "      endday endmonth endstationid endtripcount\n",
       "22451     27       04         3680           39\n",
       "22452     28       04         3680           17\n",
       "22453     29       04         3680           20\n",
       "22454     30       04         3680           63\n",
       "22455     27       04         3681            1"
      ]
     },
     "execution_count": 8,
     "metadata": {},
     "output_type": "execute_result"
    }
   ],
   "source": [
    "end_data_df.tail()"
   ]
  },
  {
   "cell_type": "code",
   "execution_count": null,
   "metadata": {},
   "outputs": [],
   "source": [
    "#append May data\n",
    "bike_df=pd.read_csv(\"Data/Sources/201805-citibike-tripdata.csv\")\n",
    "#clean_station_df=clean_station(bike_df,clean_station_df)\n",
    "start_data_df=clean_start_data(2018,bike_df,start_data_df)\n",
    "end_data_df=clean_end_data(bike_df,end_data_df)\n",
    "\n",
    "print(\"start\",start_data_df.shape)\n",
    "print(\"end\",end_data_df.shape)\n",
    "start_data_df.tail()"
   ]
  },
  {
   "cell_type": "code",
   "execution_count": null,
   "metadata": {},
   "outputs": [],
   "source": [
    "end_data_df.tail()"
   ]
  },
  {
   "cell_type": "code",
   "execution_count": null,
   "metadata": {},
   "outputs": [],
   "source": [
    "#append June data\n",
    "bike_df=pd.read_csv(\"Data/Sources/201806-citibike-tripdata.csv\")\n",
    "#clean_station_df=clean_station(bike_df,clean_station_df)\n",
    "start_data_df=clean_start_data(2018,bike_df,start_data_df)\n",
    "end_data_df=clean_end_data(bike_df,end_data_df)\n",
    "\n",
    "print(\"start\",start_data_df.shape)\n",
    "print(\"end\",end_data_df.shape)\n",
    "start_data_df.tail()"
   ]
  },
  {
   "cell_type": "code",
   "execution_count": null,
   "metadata": {},
   "outputs": [],
   "source": [
    "end_data_df.tail()"
   ]
  },
  {
   "cell_type": "code",
   "execution_count": 9,
   "metadata": {},
   "outputs": [
    {
     "name": "stdout",
     "output_type": "stream",
     "text": [
      "start (67904, 4)\n",
      "end (68475, 4)\n"
     ]
    },
    {
     "data": {
      "text/html": [
       "<div>\n",
       "<style scoped>\n",
       "    .dataframe tbody tr th:only-of-type {\n",
       "        vertical-align: middle;\n",
       "    }\n",
       "\n",
       "    .dataframe tbody tr th {\n",
       "        vertical-align: top;\n",
       "    }\n",
       "\n",
       "    .dataframe thead th {\n",
       "        text-align: right;\n",
       "    }\n",
       "</style>\n",
       "<table border=\"1\" class=\"dataframe\">\n",
       "  <thead>\n",
       "    <tr style=\"text-align: right;\">\n",
       "      <th></th>\n",
       "      <th>startday</th>\n",
       "      <th>startmonth</th>\n",
       "      <th>startstationid</th>\n",
       "      <th>starttripcount</th>\n",
       "    </tr>\n",
       "  </thead>\n",
       "  <tbody>\n",
       "    <tr>\n",
       "      <th>23191</th>\n",
       "      <td>27</td>\n",
       "      <td>07</td>\n",
       "      <td>3697</td>\n",
       "      <td>10</td>\n",
       "    </tr>\n",
       "    <tr>\n",
       "      <th>23192</th>\n",
       "      <td>28</td>\n",
       "      <td>07</td>\n",
       "      <td>3697</td>\n",
       "      <td>72</td>\n",
       "    </tr>\n",
       "    <tr>\n",
       "      <th>23193</th>\n",
       "      <td>29</td>\n",
       "      <td>07</td>\n",
       "      <td>3697</td>\n",
       "      <td>74</td>\n",
       "    </tr>\n",
       "    <tr>\n",
       "      <th>23194</th>\n",
       "      <td>30</td>\n",
       "      <td>07</td>\n",
       "      <td>3697</td>\n",
       "      <td>83</td>\n",
       "    </tr>\n",
       "    <tr>\n",
       "      <th>23195</th>\n",
       "      <td>31</td>\n",
       "      <td>07</td>\n",
       "      <td>3697</td>\n",
       "      <td>120</td>\n",
       "    </tr>\n",
       "  </tbody>\n",
       "</table>\n",
       "</div>"
      ],
      "text/plain": [
       "      startday startmonth startstationid starttripcount\n",
       "23191       27         07           3697             10\n",
       "23192       28         07           3697             72\n",
       "23193       29         07           3697             74\n",
       "23194       30         07           3697             83\n",
       "23195       31         07           3697            120"
      ]
     },
     "execution_count": 9,
     "metadata": {},
     "output_type": "execute_result"
    }
   ],
   "source": [
    "#append July data\n",
    "bike_df=pd.read_csv(\"Data/Sources/201807-citibike-tripdata.csv\")\n",
    "#clean_station_df=clean_station(bike_df,clean_station_df)\n",
    "start_data_df=clean_start_data(2018,bike_df,start_data_df)\n",
    "end_data_df=clean_end_data(bike_df,end_data_df)\n",
    "\n",
    "print(\"start\",start_data_df.shape)\n",
    "print(\"end\",end_data_df.shape)\n",
    "start_data_df.tail()"
   ]
  },
  {
   "cell_type": "code",
   "execution_count": 10,
   "metadata": {},
   "outputs": [
    {
     "data": {
      "text/html": [
       "<div>\n",
       "<style scoped>\n",
       "    .dataframe tbody tr th:only-of-type {\n",
       "        vertical-align: middle;\n",
       "    }\n",
       "\n",
       "    .dataframe tbody tr th {\n",
       "        vertical-align: top;\n",
       "    }\n",
       "\n",
       "    .dataframe thead th {\n",
       "        text-align: right;\n",
       "    }\n",
       "</style>\n",
       "<table border=\"1\" class=\"dataframe\">\n",
       "  <thead>\n",
       "    <tr style=\"text-align: right;\">\n",
       "      <th></th>\n",
       "      <th>endday</th>\n",
       "      <th>endmonth</th>\n",
       "      <th>endstationid</th>\n",
       "      <th>endtripcount</th>\n",
       "    </tr>\n",
       "  </thead>\n",
       "  <tbody>\n",
       "    <tr>\n",
       "      <th>23487</th>\n",
       "      <td>27</td>\n",
       "      <td>07</td>\n",
       "      <td>3697</td>\n",
       "      <td>20</td>\n",
       "    </tr>\n",
       "    <tr>\n",
       "      <th>23488</th>\n",
       "      <td>28</td>\n",
       "      <td>07</td>\n",
       "      <td>3697</td>\n",
       "      <td>72</td>\n",
       "    </tr>\n",
       "    <tr>\n",
       "      <th>23489</th>\n",
       "      <td>29</td>\n",
       "      <td>07</td>\n",
       "      <td>3697</td>\n",
       "      <td>79</td>\n",
       "    </tr>\n",
       "    <tr>\n",
       "      <th>23490</th>\n",
       "      <td>30</td>\n",
       "      <td>07</td>\n",
       "      <td>3697</td>\n",
       "      <td>103</td>\n",
       "    </tr>\n",
       "    <tr>\n",
       "      <th>23491</th>\n",
       "      <td>31</td>\n",
       "      <td>07</td>\n",
       "      <td>3697</td>\n",
       "      <td>126</td>\n",
       "    </tr>\n",
       "  </tbody>\n",
       "</table>\n",
       "</div>"
      ],
      "text/plain": [
       "      endday endmonth endstationid endtripcount\n",
       "23487     27       07         3697           20\n",
       "23488     28       07         3697           72\n",
       "23489     29       07         3697           79\n",
       "23490     30       07         3697          103\n",
       "23491     31       07         3697          126"
      ]
     },
     "execution_count": 10,
     "metadata": {},
     "output_type": "execute_result"
    }
   ],
   "source": [
    "end_data_df.tail()"
   ]
  },
  {
   "cell_type": "code",
   "execution_count": null,
   "metadata": {},
   "outputs": [],
   "source": [
    "#append Aug data\n",
    "bike_df=pd.read_csv(\"Data/Sources/201808-citibike-tripdata.csv\")\n",
    "#clean_station_df=clean_station(bike_df,clean_station_df)\n",
    "start_data_df=clean_start_data(2018,bike_df,start_data_df)\n",
    "end_data_df=clean_end_data(bike_df,end_data_df)\n",
    "\n",
    "print(clean_station_df.shape)\n",
    "start_data_df.tail()"
   ]
  },
  {
   "cell_type": "code",
   "execution_count": null,
   "metadata": {},
   "outputs": [],
   "source": [
    "#append Sept data\n",
    "bike_df=pd.read_csv(\"Data/Sources/201809-citibike-tripdata.csv\")\n",
    "clean_station_df=clean_station(bike_df,clean_station_df)\n",
    "start_data_df=clean_start_data(2018,bike_df,start_data_df)\n",
    "end_data_df=clean_end_data(bike_df,end_data_df)\n",
    "\n",
    "print(clean_station_df.shape)\n",
    "start_data_df.tail()"
   ]
  },
  {
   "cell_type": "code",
   "execution_count": null,
   "metadata": {},
   "outputs": [],
   "source": [
    "#append Oct data\n",
    "bike_df=pd.read_csv(\"Data/Sources/JC-201810-citibike-tripdata.csv\")\n",
    "clean_station_df=clean_station(bike_df,clean_station_df)\n",
    "start_data_df=clean_start_data(2018,bike_df,start_data_df)\n",
    "end_data_df=clean_end_data(bike_df,end_data_df)\n",
    "\n",
    "print(clean_station_df.shape)\n",
    "start_data_df.tail()"
   ]
  },
  {
   "cell_type": "code",
   "execution_count": null,
   "metadata": {},
   "outputs": [],
   "source": [
    "#append Nov data\n",
    "bike_df=pd.read_csv(\"Data/Sources/201811-citibike-tripdata.csv\")\n",
    "#clean_station_df=clean_station(bike_df,clean_station_df)\n",
    "start_data_df=clean_start_data(2018,bike_df,start_data_df)\n",
    "end_data_df=clean_end_data(bike_df,end_data_df)\n",
    "\n",
    "print(clean_station_df.shape)\n",
    "start_data_df.tail()"
   ]
  },
  {
   "cell_type": "code",
   "execution_count": null,
   "metadata": {},
   "outputs": [],
   "source": [
    "#append Dec data\n",
    "bike_df=pd.read_csv(\"Data/Sources/201812-citibike-tripdata.csv\")\n",
    "clean_station_df=clean_station(bike_df,clean_station_df)\n",
    "start_data_df=clean_start_data(2018,bike_df,start_data_df)\n",
    "end_data_df=clean_end_data(bike_df,end_data_df)\n",
    "\n",
    "print(clean_station_df.shape)\n",
    "start_data_df.tail()"
   ]
  },
  {
   "cell_type": "markdown",
   "metadata": {},
   "source": [
    "# final data type fix"
   ]
  },
  {
   "cell_type": "code",
   "execution_count": 11,
   "metadata": {},
   "outputs": [],
   "source": [
    "start_data_df['startstationid']=start_data_df['startstationid'].astype(int)\n",
    "end_data_df['endstationid']=end_data_df['endstationid'].astype(int)\n",
    "#clean_station_df['station_id']=clean_station_df['station_id'].astype(int)"
   ]
  },
  {
   "cell_type": "code",
   "execution_count": 12,
   "metadata": {},
   "outputs": [],
   "source": [
    "start_data_df['startmonth']=start_data_df['startmonth'].astype(int)\n",
    "start_data_df['startday']=start_data_df['startday'].astype(int)\n",
    "\n",
    "end_data_df['endmonth']=end_data_df['endmonth'].astype(int)\n",
    "end_data_df['endday']=end_data_df['endday'].astype(int)"
   ]
  },
  {
   "cell_type": "code",
   "execution_count": 13,
   "metadata": {},
   "outputs": [
    {
     "data": {
      "text/plain": [
       "dtype('int32')"
      ]
     },
     "execution_count": 13,
     "metadata": {},
     "output_type": "execute_result"
    }
   ],
   "source": [
    "start_data_df['startstationid'].dtype"
   ]
  },
  {
   "cell_type": "code",
   "execution_count": 14,
   "metadata": {},
   "outputs": [
    {
     "data": {
      "text/html": [
       "<div>\n",
       "<style scoped>\n",
       "    .dataframe tbody tr th:only-of-type {\n",
       "        vertical-align: middle;\n",
       "    }\n",
       "\n",
       "    .dataframe tbody tr th {\n",
       "        vertical-align: top;\n",
       "    }\n",
       "\n",
       "    .dataframe thead th {\n",
       "        text-align: right;\n",
       "    }\n",
       "</style>\n",
       "<table border=\"1\" class=\"dataframe\">\n",
       "  <thead>\n",
       "    <tr style=\"text-align: right;\">\n",
       "      <th></th>\n",
       "      <th>endday</th>\n",
       "      <th>endmonth</th>\n",
       "      <th>endstationid</th>\n",
       "      <th>endtripcount</th>\n",
       "    </tr>\n",
       "  </thead>\n",
       "  <tbody>\n",
       "    <tr>\n",
       "      <th>23487</th>\n",
       "      <td>27</td>\n",
       "      <td>7</td>\n",
       "      <td>3697</td>\n",
       "      <td>20</td>\n",
       "    </tr>\n",
       "    <tr>\n",
       "      <th>23488</th>\n",
       "      <td>28</td>\n",
       "      <td>7</td>\n",
       "      <td>3697</td>\n",
       "      <td>72</td>\n",
       "    </tr>\n",
       "    <tr>\n",
       "      <th>23489</th>\n",
       "      <td>29</td>\n",
       "      <td>7</td>\n",
       "      <td>3697</td>\n",
       "      <td>79</td>\n",
       "    </tr>\n",
       "    <tr>\n",
       "      <th>23490</th>\n",
       "      <td>30</td>\n",
       "      <td>7</td>\n",
       "      <td>3697</td>\n",
       "      <td>103</td>\n",
       "    </tr>\n",
       "    <tr>\n",
       "      <th>23491</th>\n",
       "      <td>31</td>\n",
       "      <td>7</td>\n",
       "      <td>3697</td>\n",
       "      <td>126</td>\n",
       "    </tr>\n",
       "  </tbody>\n",
       "</table>\n",
       "</div>"
      ],
      "text/plain": [
       "       endday  endmonth  endstationid endtripcount\n",
       "23487      27         7          3697           20\n",
       "23488      28         7          3697           72\n",
       "23489      29         7          3697           79\n",
       "23490      30         7          3697          103\n",
       "23491      31         7          3697          126"
      ]
     },
     "execution_count": 14,
     "metadata": {},
     "output_type": "execute_result"
    }
   ],
   "source": [
    "end_data_df.tail()"
   ]
  },
  {
   "cell_type": "markdown",
   "metadata": {},
   "source": [
    "# Write Merged data to csv files"
   ]
  },
  {
   "cell_type": "code",
   "execution_count": null,
   "metadata": {},
   "outputs": [],
   "source": [
    "# for start and end stations independently\n",
    "#clean_station_df.to_csv(\"Data/2018/stations.csv\", index=False,header=True)\n",
    "start_data_df.to_csv(\"Data/2018/startdata.csv\", index=False,header=True,encoding='utf-8')\n",
    "end_data_df.to_csv(\"Data/2018/enddata.csv\", index=False,header=True,encoding='utf-8')"
   ]
  },
  {
   "cell_type": "code",
   "execution_count": 15,
   "metadata": {},
   "outputs": [],
   "source": [
    "# for map with join only January, April and July are used for map join data\n",
    "#clean_station_df.to_csv(\"Data/2018/stations.csv\", index=False,header=True)\n",
    "start_data_df.to_csv(\"Data/2018/startjoindata.csv\", index=False,header=True,encoding='utf-8')\n",
    "end_data_df.to_csv(\"Data/2018/endjoindata.csv\", index=False,header=True,encoding='utf-8')\n"
   ]
  },
  {
   "cell_type": "markdown",
   "metadata": {},
   "source": [
    "# Remove stray month data "
   ]
  },
  {
   "cell_type": "markdown",
   "metadata": {},
   "source": [
    "Stray month data appears when months are chosen selectively\n",
    "It can be cleaned here as needed"
   ]
  },
  {
   "cell_type": "code",
   "execution_count": 20,
   "metadata": {},
   "outputs": [],
   "source": [
    "start_df=pd.read_csv(\"Data/2018/startdata.csv\")\n",
    "end_df=pd.read_csv(\"Data/2018/enddata.csv\")"
   ]
  },
  {
   "cell_type": "code",
   "execution_count": null,
   "metadata": {},
   "outputs": [],
   "source": [
    "start_df=pd.read_csv(\"Data/2018/startjoindata.csv\")\n",
    "end_df=pd.read_csv(\"Data/2018/endjoindata.csv\")"
   ]
  },
  {
   "cell_type": "code",
   "execution_count": 25,
   "metadata": {},
   "outputs": [
    {
     "name": "stdout",
     "output_type": "stream",
     "text": [
      "(156908, 4)\n"
     ]
    },
    {
     "data": {
      "text/plain": [
       "(156908, 4)"
      ]
     },
     "execution_count": 25,
     "metadata": {},
     "output_type": "execute_result"
    }
   ],
   "source": [
    "# delete selected months as dirty data\n",
    "print(start_df.shape)\n",
    "start_df=start_df.loc[start_df['startmonth'] < 8,:]\n",
    "start_df.shape"
   ]
  },
  {
   "cell_type": "code",
   "execution_count": 24,
   "metadata": {},
   "outputs": [
    {
     "name": "stdout",
     "output_type": "stream",
     "text": [
      "(158543, 4)\n"
     ]
    },
    {
     "data": {
      "text/plain": [
       "(158296, 4)"
      ]
     },
     "execution_count": 24,
     "metadata": {},
     "output_type": "execute_result"
    }
   ],
   "source": [
    "# delete selected months as dirty data\n",
    "print(end_df.shape)\n",
    "end_df=end_df.loc[end_df['endmonth'] < 8,:]\n",
    "end_df.shape"
   ]
  },
  {
   "cell_type": "code",
   "execution_count": 26,
   "metadata": {},
   "outputs": [],
   "source": [
    "# for start and end stations independently\n",
    "#clean_station_df.to_csv(\"Data/2018/stations.csv\", index=False,header=True)\n",
    "start_df.to_csv(\"Data/2018/startdata.csv\", index=False,header=True,encoding='utf-8')\n",
    "end_df.to_csv(\"Data/2018/enddata.csv\", index=False,header=True,encoding='utf-8')"
   ]
  },
  {
   "cell_type": "code",
   "execution_count": null,
   "metadata": {},
   "outputs": [],
   "source": [
    "# for start and end stations independently\n",
    "#clean_station_df.to_csv(\"Data/2018/stations.csv\", index=False,header=True)\n",
    "start_df.to_csv(\"Data/2018/startjoindata.csv\", index=False,header=True,encoding='utf-8')\n",
    "end_df.to_csv(\"Data/2018/endjoindata.csv\", index=False,header=True,encoding='utf-8')"
   ]
  }
 ],
 "metadata": {
  "kernelspec": {
   "display_name": "Python 3",
   "language": "python",
   "name": "python3"
  },
  "language_info": {
   "codemirror_mode": {
    "name": "ipython",
    "version": 3
   },
   "file_extension": ".py",
   "mimetype": "text/x-python",
   "name": "python",
   "nbconvert_exporter": "python",
   "pygments_lexer": "ipython3",
   "version": "3.6.5"
  }
 },
 "nbformat": 4,
 "nbformat_minor": 2
}
